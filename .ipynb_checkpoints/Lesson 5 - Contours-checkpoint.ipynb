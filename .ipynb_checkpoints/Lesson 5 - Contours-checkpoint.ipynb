{
 "cells": [
  {
   "cell_type": "code",
   "execution_count": null,
   "metadata": {},
   "outputs": [],
   "source": [
    "import cv2\n",
    "import numpy as np\n",
    "import matplotlib.pyplot as plt\n",
    "%matplotlib inline"
   ]
  },
  {
   "cell_type": "code",
   "execution_count": null,
   "metadata": {},
   "outputs": [],
   "source": [
    "def show_image(image, cmap = None, fig_size = (10, 10)):\n",
    "    fig, ax = plt.subplots(figsize=fig_size)\n",
    "    ax.imshow(image, cmap = cmap)\n",
    "    ax.axis('off')\n",
    "    plt.show()"
   ]
  },
  {
   "cell_type": "markdown",
   "metadata": {},
   "source": [
    "## 1. Contours"
   ]
  },
  {
   "cell_type": "markdown",
   "metadata": {},
   "source": [
    "### 1.1 Finding and Drawing Contours"
   ]
  },
  {
   "cell_type": "code",
   "execution_count": null,
   "metadata": {},
   "outputs": [],
   "source": [
    "image = cv2.imread('../img/shapes.png')\n",
    "gray = cv2.cvtColor(image,cv2.COLOR_BGR2GRAY)\n",
    "ret,thresh = cv2.threshold(gray,230,255,0)\n",
    "contours, hierarchy = cv2.findContours(thresh,cv2.RETR_TREE,cv2.CHAIN_APPROX_SIMPLE)\n",
    "\n",
    "clone = image.copy()\n",
    "clone = cv2.drawContours(clone, contours, 10, (0,0,255), 1)\n",
    "show_image(np.flip(clone, axis=2))"
   ]
  },
  {
   "cell_type": "code",
   "execution_count": null,
   "metadata": {},
   "outputs": [],
   "source": [
    "clone = image.copy()\n",
    "cnt = contours[3]\n",
    "clone = cv2.drawContours(clone.copy(), [cnt], 0, (0,255,0), 10)\n",
    "show_image(np.flip(clone, axis=2))"
   ]
  },
  {
   "cell_type": "markdown",
   "metadata": {},
   "source": [
    "### 1.2 Basic Contour Features"
   ]
  },
  {
   "cell_type": "markdown",
   "metadata": {},
   "source": [
    "#### 1.2.1 Contour Area and Perimeter"
   ]
  },
  {
   "cell_type": "code",
   "execution_count": null,
   "metadata": {},
   "outputs": [],
   "source": [
    "image = cv2.imread('../img/basic_shapes.png')\n",
    "gray = cv2.cvtColor(image,cv2.COLOR_BGR2GRAY)\n",
    "ret,thresh = cv2.threshold(gray,10,255,0)\n",
    "contours = cv2.findContours(thresh, 1, 2)[0]\n",
    "\n",
    "cnt = contours[0]\n",
    "M = cv2.moments(cnt)\n",
    "cx = int(M['m10']/M['m00'])\n",
    "cy = int(M['m01']/M['m00'])\n",
    "\n",
    "# loop over the contours again\n",
    "for (i, c) in enumerate(contours):\n",
    "    # compute the area and the perimeter of the contour\n",
    "    area = cv2.contourArea(c)\n",
    "    perimeter = cv2.arcLength(c, True)\n",
    "    clone = image.copy()\n",
    "    print(\"Contour #{} -- area: {:.2f}, perimeter: {:.2f}\".format(i + 1, area, perimeter))\n",
    " \n",
    "    # draw the contour on the image\n",
    "    cv2.drawContours(clone, [c], -1, (0, 255, 0), 2)\n",
    " \n",
    "    # compute the center of the contour and draw the contour number\n",
    "    M = cv2.moments(c)\n",
    "    cX = int(M[\"m10\"] / M[\"m00\"])\n",
    "    cY = int(M[\"m01\"] / M[\"m00\"])\n",
    "    cv2.putText(clone, \"#{}\".format(i + 1), (cX - 20, cY), cv2.FONT_HERSHEY_SIMPLEX,\n",
    "        1.25, (255, 255, 255), 4)\n",
    "    \n",
    "    show_image(clone)"
   ]
  },
  {
   "cell_type": "markdown",
   "metadata": {},
   "source": [
    "#### 1.2.4 Contour Bounding Boxes"
   ]
  },
  {
   "cell_type": "code",
   "execution_count": null,
   "metadata": {},
   "outputs": [],
   "source": [
    "image = cv2.imread('../img/basic_shapes.png')\n",
    "gray = cv2.cvtColor(image,cv2.COLOR_BGR2GRAY)\n",
    "ret,thresh = cv2.threshold(gray,10,255,0)\n",
    "contours = cv2.findContours(thresh, 1, 2)[0]\n",
    "\n",
    "# loop over the contours again\n",
    "for (i, c) in enumerate(contours):\n",
    "    clone = image.copy()\n",
    "    print(\"Contour #{}\".format(i + 1))\n",
    " \n",
    "    # draw the contour on the image\n",
    "    cv2.drawContours(clone, [c], -1, (0, 255, 0), 2)\n",
    " \n",
    "    # compute the center of the contour and draw the contour number\n",
    "    M = cv2.moments(c)\n",
    "    cX = int(M[\"m10\"] / M[\"m00\"])\n",
    "    cY = int(M[\"m01\"] / M[\"m00\"])\n",
    "    cv2.putText(clone, \"#{}\".format(i + 1), (cX - 20, cY), cv2.FONT_HERSHEY_SIMPLEX,\n",
    "        1.25, (255, 255, 255), 4)\n",
    "    \n",
    "    x,y,w,h = cv2.boundingRect(c)\n",
    "    cv2.rectangle(clone,(x,y),(x+w,y+h),(255,255,255),4)\n",
    "    \n",
    "    show_image(clone)"
   ]
  },
  {
   "cell_type": "markdown",
   "metadata": {},
   "source": [
    "#### 1.2.5 Contour Minimum Enclosing Circles"
   ]
  },
  {
   "cell_type": "code",
   "execution_count": null,
   "metadata": {},
   "outputs": [],
   "source": [
    "image = cv2.imread('../img/basic_shapes.png')\n",
    "gray = cv2.cvtColor(image,cv2.COLOR_BGR2GRAY)\n",
    "ret,thresh = cv2.threshold(gray,10,255,0)\n",
    "contours = cv2.findContours(thresh, 1, 2)[0]\n",
    "\n",
    "# loop over the contours again\n",
    "for (i, c) in enumerate(contours):\n",
    "    clone = image.copy()\n",
    "    print(\"Contour #{}\".format(i + 1))\n",
    " \n",
    "    # draw the contour on the image\n",
    "    cv2.drawContours(clone, [c], -1, (0, 255, 0), 2)\n",
    " \n",
    "    # compute the center of the contour and draw the contour number\n",
    "    M = cv2.moments(c)\n",
    "    cX = int(M[\"m10\"] / M[\"m00\"])\n",
    "    cY = int(M[\"m01\"] / M[\"m00\"])\n",
    "    cv2.putText(clone, \"#{}\".format(i + 1), (cX - 20, cY), cv2.FONT_HERSHEY_SIMPLEX,\n",
    "        1.25, (255, 255, 255), 4)\n",
    "    \n",
    "    (x,y),radius = cv2.minEnclosingCircle(c)\n",
    "    center = (int(x),int(y))\n",
    "    radius = int(radius)\n",
    "    clone = cv2.circle(clone,center,radius,(255,255,255),4)\n",
    "    \n",
    "    show_image(clone)"
   ]
  },
  {
   "cell_type": "markdown",
   "metadata": {},
   "source": [
    "#### 1.2.6 Fitting an Ellipse"
   ]
  },
  {
   "cell_type": "code",
   "execution_count": null,
   "metadata": {},
   "outputs": [],
   "source": [
    "image = cv2.imread('../img/basic_shapes.png')\n",
    "gray = cv2.cvtColor(image,cv2.COLOR_BGR2GRAY)\n",
    "ret,thresh = cv2.threshold(gray,10,255,0)\n",
    "contours = cv2.findContours(thresh, 1, 2)[0]\n",
    "\n",
    "ellipse = cv2.fitEllipse(contours[0])\n",
    "cv2.ellipse(image,ellipse,(255,255,255),4)\n",
    "\n",
    "show_image(image)"
   ]
  },
  {
   "cell_type": "markdown",
   "metadata": {},
   "source": [
    "### EXERCISE: Fit a circle, bounding box and ellipse to objects of an image. What are their properties?"
   ]
  },
  {
   "cell_type": "code",
   "execution_count": null,
   "metadata": {},
   "outputs": [],
   "source": [
    "image = np.flip(cv2.imread('../img/shapes.png'), axis =2 )\n",
    "show_image(image)"
   ]
  },
  {
   "cell_type": "markdown",
   "metadata": {},
   "source": [
    "### 1.3 Advanced Contour Features"
   ]
  },
  {
   "cell_type": "markdown",
   "metadata": {},
   "source": [
    "#### 1.3.1 Aspect Ratio"
   ]
  },
  {
   "cell_type": "code",
   "execution_count": null,
   "metadata": {},
   "outputs": [],
   "source": [
    "image = cv2.imread('../img/basic_shapes.png')\n",
    "gray = cv2.cvtColor(image,cv2.COLOR_BGR2GRAY)\n",
    "ret,thresh = cv2.threshold(gray,10,255,0)\n",
    "contours = cv2.findContours(thresh, 1, 2)[0]\n",
    "\n",
    "# loop over the contours again\n",
    "for (i, c) in enumerate(contours):\n",
    "    clone = image.copy()\n",
    "    \n",
    "    # compute the area and the aspect ratio of the contour\n",
    "    x,y,w,h = cv2.boundingRect(c)\n",
    "    aspect_ratio = float(w)/h\n",
    "    print(\"Contour #{} -- aspect Ratio: {:.2f}\".format(i + 1, aspect_ratio))\n",
    " \n",
    "    # draw the contour on the image\n",
    "    cv2.drawContours(clone, [c], -1, (0, 255, 0), 2)\n",
    " \n",
    "    # compute the center of the contour and draw the contour number\n",
    "    M = cv2.moments(c)\n",
    "    cX = int(M[\"m10\"] / M[\"m00\"])\n",
    "    cY = int(M[\"m01\"] / M[\"m00\"])\n",
    "    cv2.putText(clone, \"#{}\".format(i + 1), (cX - 20, cY), cv2.FONT_HERSHEY_SIMPLEX,\n",
    "        1.25, (255, 255, 255), 4)\n",
    "    \n",
    "    show_image(clone)"
   ]
  },
  {
   "cell_type": "markdown",
   "metadata": {},
   "source": [
    "#### 1.3.2 Extent"
   ]
  },
  {
   "cell_type": "code",
   "execution_count": null,
   "metadata": {},
   "outputs": [],
   "source": [
    "image = cv2.imread('../img/basic_shapes.png')\n",
    "gray = cv2.cvtColor(image,cv2.COLOR_BGR2GRAY)\n",
    "ret,thresh = cv2.threshold(gray,10,255,0)\n",
    "contours = cv2.findContours(thresh, 1, 2)[0]\n",
    "\n",
    "# loop over the contours again\n",
    "for (i, c) in enumerate(contours):\n",
    "    clone = image.copy()\n",
    "    \n",
    "    # compute the area and the aspect ratio of the contour\n",
    "    area = cv2.contourArea(c)\n",
    "    x,y,w,h = cv2.boundingRect(c)\n",
    "    rect_area = w*h\n",
    "    extent = float(area)/rect_area\n",
    "    print(\"Contour #{} -- area: {:.2f}, Rectangular area: {:.2f}, extent: {:.2f}\".format(i + 1, area, rect_area, extent))\n",
    " \n",
    "    # draw the contour on the image\n",
    "    cv2.drawContours(clone, [c], -1, (0, 255, 0), 2)\n",
    " \n",
    "    # compute the center of the contour and draw the contour number\n",
    "    M = cv2.moments(c)\n",
    "    cX = int(M[\"m10\"] / M[\"m00\"])\n",
    "    cY = int(M[\"m01\"] / M[\"m00\"])\n",
    "    cv2.putText(clone, \"#{}\".format(i + 1), (cX - 20, cY), cv2.FONT_HERSHEY_SIMPLEX,\n",
    "        1.25, (255, 255, 255), 4)\n",
    "    \n",
    "    x,y,w,h = cv2.boundingRect(c)\n",
    "    cv2.rectangle(clone,(x,y),(x+w,y+h),(255,255,255),4)\n",
    "    \n",
    "    show_image(clone)"
   ]
  },
  {
   "cell_type": "markdown",
   "metadata": {},
   "source": [
    "#### 1.3.3 Convexity"
   ]
  },
  {
   "cell_type": "code",
   "execution_count": null,
   "metadata": {},
   "outputs": [],
   "source": [
    "image = cv2.imread('../img/basic_shapes.png')\n",
    "gray = cv2.cvtColor(image,cv2.COLOR_BGR2GRAY)\n",
    "ret,thresh = cv2.threshold(gray,10,255,0)\n",
    "contours = cv2.findContours(thresh, cv2.RETR_TREE, cv2.CHAIN_APPROX_SIMPLE)[0]\n",
    "\n",
    "# loop over the contours again\n",
    "for (i, c) in enumerate(contours):\n",
    "    clone = image.copy()\n",
    "    \n",
    "    # Check convexity\n",
    "    is_convex = cv2.isContourConvex(c)\n",
    "    print(\"Contour #{} -- Convex: {}\".format(i + 1, is_convex))\n",
    " \n",
    "    # draw the contour on the image\n",
    "    cv2.drawContours(clone, [c], -1, (0, 255, 0), 4)\n",
    " \n",
    "    # compute the center of the contour and draw the contour number\n",
    "    M = cv2.moments(c)\n",
    "    cX = int(M[\"m10\"] / M[\"m00\"])\n",
    "    cY = int(M[\"m01\"] / M[\"m00\"])\n",
    "    cv2.putText(clone, \"#{}\".format(i + 1), (cX - 20, cY), cv2.FONT_HERSHEY_SIMPLEX,\n",
    "        1.25, (255, 255, 255), 2)\n",
    "    \n",
    "    show_image(clone)"
   ]
  },
  {
   "cell_type": "markdown",
   "metadata": {},
   "source": [
    "#### 1.3.4 Solidity"
   ]
  },
  {
   "cell_type": "code",
   "execution_count": null,
   "metadata": {},
   "outputs": [],
   "source": [
    "# load the tic-tac-toe image and convert it to grayscale\n",
    "image = cv2.imread(\"../img/tetris_blocks.png\")\n",
    "gray = cv2.cvtColor(image, cv2.COLOR_BGR2GRAY)\n",
    "thresh = cv2.threshold(gray, 225, 255, cv2.THRESH_BINARY_INV)[1]\n",
    "contours = cv2.findContours(thresh, cv2.RETR_EXTERNAL, cv2.CHAIN_APPROX_SIMPLE)[0]\n",
    "\n",
    "# loop over the contours again\n",
    "for (i, c) in enumerate(contours):\n",
    "    clone = image.copy()\n",
    "    \n",
    "    area = cv2.contourArea(c)\n",
    "    hull = cv2.convexHull(c)\n",
    "    hull_area = cv2.contourArea(hull)\n",
    "    solidity = float(area)/hull_area\n",
    "    \n",
    "    # Check convexity\n",
    "    print(f\"Contour #{i+1} -- area: {area}, Hull Area: {hull_area}, Solidity: {solidity}\")\n",
    " \n",
    "    # draw the contour and hull on the image\n",
    "    cv2.drawContours(clone, [hull], -1, 255, 10)\n",
    "    cv2.drawContours(clone, [c], -1, (0, 255, 0), 4)\n",
    " \n",
    "    # compute the center of the contour and draw the contour number\n",
    "    M = cv2.moments(c)\n",
    "    cX = int(M[\"m10\"] / M[\"m00\"])\n",
    "    cY = int(M[\"m01\"] / M[\"m00\"])\n",
    "    cv2.putText(clone, \"#{}\".format(i + 1), (cX - 20, cY), cv2.FONT_HERSHEY_SIMPLEX,\n",
    "        1.25, (0, 0, 0), 2)\n",
    "    \n",
    "    show_image(clone)"
   ]
  },
  {
   "cell_type": "markdown",
   "metadata": {},
   "source": [
    "### 2. Identifying Shapes in Images using Contours"
   ]
  },
  {
   "cell_type": "code",
   "execution_count": null,
   "metadata": {},
   "outputs": [],
   "source": [
    "# load the Tetris block image, convert it to grayscale, and threshold\n",
    "# the image\n",
    "image = cv2.imread(\"../img/tetris_blocks.png\")\n",
    "gray = cv2.cvtColor(image, cv2.COLOR_BGR2GRAY)\n",
    "thresh = cv2.threshold(gray, 225, 255, cv2.THRESH_BINARY_INV)[1]\n",
    " \n",
    "# show the original and thresholded images\n",
    "cv2.imshow(\"Original\", image)\n",
    "cv2.imshow(\"Thresh\", thresh)\n",
    " \n",
    "# find external contours in the thresholded image and allocate memory\n",
    "# for the convex hull image\n",
    "cnts = cv2.findContours(thresh.copy(), cv2.RETR_EXTERNAL, cv2.CHAIN_APPROX_SIMPLE)[0]\n",
    "hullImage = np.zeros(gray.shape[:2], dtype=\"uint8\")\n",
    "\n",
    "# loop over the contours\n",
    "for (i, c) in enumerate(cnts):\n",
    "    # compute the area of the contour along with the bounding box\n",
    "    # to compute the aspect ratio\n",
    "    area = cv2.contourArea(c)\n",
    "    (x, y, w, h) = cv2.boundingRect(c)\n",
    "\n",
    "    # compute the aspect ratio of the contour, which is simply the width\n",
    "    # divided by the height of the bounding box\n",
    "    aspectRatio = w / float(h)\n",
    "\n",
    "    # use the area of the contour and the bounding box area to compute\n",
    "    # the extent\n",
    "    extent = area / float(w * h)\n",
    "\n",
    "    # compute the convex hull of the contour, then use the area of the\n",
    "    # original contour and the area of the convex hull to compute the\n",
    "    # solidity\n",
    "    hull = cv2.convexHull(c)\n",
    "    hullArea = cv2.contourArea(hull)\n",
    "    solidity = area / float(hullArea)\n",
    "\n",
    "    # visualize the original contours and the convex hull and initialize\n",
    "    # the name of the shape\n",
    "    cv2.drawContours(hullImage, [hull], -1, 255, -1)\n",
    "    cv2.drawContours(image, [c], -1, (240, 0, 159), 3)\n",
    "    shape = \"\"\n",
    "    \n",
    "    # if the aspect ratio is approximately one, then the shape is a square\n",
    "    if aspectRatio >= 0.98 and aspectRatio <= 1.02:\n",
    "        shape = \"SQUARE\"\n",
    "\n",
    "    # if the width is 3x longer than the height, then we have a rectangle\n",
    "    elif aspectRatio >= 3.0:\n",
    "        shape = \"RECTANGLE\"\n",
    "\n",
    "    # if the extent is sufficiently small, then we have a L-piece\n",
    "    elif extent < 0.65:\n",
    "        shape = \"L-PIECE\"\n",
    "\n",
    "    # if the solidity is sufficiently large enough, then we have a Z-piece\n",
    "    elif solidity > 0.80:\n",
    "        shape = \"Z-PIECE\"\n",
    "\n",
    "    # draw the shape name on the image\n",
    "    cv2.putText(image, shape, (x, y - 10), cv2.FONT_HERSHEY_SIMPLEX, 0.5,\n",
    "        (240, 0, 159), 2)\n",
    "\n",
    "    # show the contour properties\n",
    "    print(\"Contour #{} -- aspect_ratio={:.2f}, extent={:.2f}, solidity={:.2f}\"\n",
    "        .format(i + 1, aspectRatio, extent, solidity))\n",
    "\n",
    "# show the output images\n",
    "show_image(hullImage)\n",
    "show_image(image)"
   ]
  },
  {
   "cell_type": "markdown",
   "metadata": {},
   "source": [
    "### EXERCISE: Use contour properties to identify shape of objects in the following image"
   ]
  },
  {
   "cell_type": "code",
   "execution_count": null,
   "metadata": {},
   "outputs": [],
   "source": [
    "image = np.flip(cv2.imread(\"../img/shapes.png\"), axis = 2)\n",
    "show_image(image)"
   ]
  },
  {
   "cell_type": "code",
   "execution_count": null,
   "metadata": {},
   "outputs": [],
   "source": [
    "# TODO: Your code below"
   ]
  },
  {
   "cell_type": "markdown",
   "metadata": {},
   "source": [
    "### 1.4 Contour Retrieval Modes"
   ]
  },
  {
   "cell_type": "code",
   "execution_count": null,
   "metadata": {},
   "outputs": [],
   "source": [
    "image = cv2.imread('../img/basic_shapes.png')\n",
    "gray = cv2.cvtColor(image,cv2.COLOR_BGR2GRAY)\n",
    "ret,thresh = cv2.threshold(gray,10,255,0)\n",
    "\n",
    "contour_retrieval_modes = [cv2.RETR_LIST, cv2.RETR_EXTERNAL, cv2.RETR_CCOMP, cv2.RETR_TREE]\n",
    "names = ['RETR_LIST', 'RETR_EXTERNAL', 'RETR_CCOMP', 'RETR_TREE']\n",
    "\n",
    "for rm, name in zip(contour_retrieval_modes, names):\n",
    "    img = gray.copy()\n",
    "    contours = cv2.findContours(thresh,rm,cv2.CHAIN_APPROX_SIMPLE)[0]\n",
    "    \n",
    "    for (i, c) in enumerate(contours):\n",
    "        (x, y, w, h) = cv2.boundingRect(c)\n",
    "        \n",
    "        M = cv2.moments(c)\n",
    "        cX = int(M[\"m10\"] / M[\"m00\"])\n",
    "        cY = int(M[\"m01\"] / M[\"m00\"])\n",
    "        \n",
    "        cv2.drawContours(img, [c], -1, (255, 255, 255), 4)\n",
    "        \n",
    "        \n",
    "        # draw the shape name on the image\n",
    "        cv2.putText(img, str(i+1), (cX, cY), cv2.FONT_HERSHEY_SIMPLEX, 1, (240, 0, 159), 2)\n",
    "    \n",
    "    print(name)\n",
    "    show_image(img)"
   ]
  },
  {
   "cell_type": "markdown",
   "metadata": {},
   "source": [
    "### PROJECT: Identify Xs and Os in the tic tac toe board"
   ]
  },
  {
   "cell_type": "code",
   "execution_count": null,
   "metadata": {},
   "outputs": [],
   "source": [
    "image = np.flip(cv2.imread(\"../img/tictactoe.png\"), axis = 2)\n",
    "show_image(image)"
   ]
  },
  {
   "cell_type": "code",
   "execution_count": null,
   "metadata": {},
   "outputs": [],
   "source": [
    "# %load ../solutions/tic-tac-toe.py\n",
    "# load the tic-tac-toe image and convert it to grayscale\n",
    "image = cv2.imread(\"../img/tictactoe.png\")\n",
    "gray = cv2.cvtColor(image, cv2.COLOR_BGR2GRAY)\n",
    " \n",
    "# find all contours on the tic-tac-toe board\n",
    "cnts = cv2.findContours(gray.copy(), cv2.RETR_EXTERNAL, cv2.CHAIN_APPROX_SIMPLE)[0]\n",
    " \n",
    "# loop over the contours\n",
    "for (i, c) in enumerate(cnts):\n",
    "    # compute the area of the contour along with the bounding box\n",
    "    # to compute the aspect ratio\n",
    "    area = cv2.contourArea(c)\n",
    "    (x, y, w, h) = cv2.boundingRect(c)\n",
    "\n",
    "    # compute the convex hull of the contour, then use the area of the\n",
    "    # original contour and the area of the convex hull to compute the\n",
    "    # solidity\n",
    "    hull = cv2.convexHull(c)\n",
    "    hullArea = cv2.contourArea(hull)\n",
    "    solidity = area / float(hullArea)\n",
    "\n",
    "    # initialize the character text\n",
    "    char = \"?\"\n",
    "\n",
    "    # if the solidity is high, then we are examining an `O`\n",
    "    if solidity > 0.9:\n",
    "        char = \"O\"\n",
    "\n",
    "    # otherwise, if the solidity it still reasonabably high, we\n",
    "    # are examining an `X`\n",
    "    elif solidity > 0.5:\n",
    "        char = \"X\"\n",
    "\n",
    "    # if the character is not unknown, draw it\n",
    "    if char != \"?\":\n",
    "        cv2.drawContours(image, [c], -1, (0, 255, 0), 3)\n",
    "        cv2.putText(image, char, (x, y - 10), cv2.FONT_HERSHEY_SIMPLEX, 1.25,\n",
    "            (0, 255, 0), 4)\n",
    "\n",
    "    # show the contour properties\n",
    "    print(\"{} (Contour #{}) -- solidity={:.2f}\".format(char, i + 1, solidity))\n",
    "    \n",
    "show_image(image)"
   ]
  },
  {
   "cell_type": "markdown",
   "metadata": {},
   "source": [
    "### PROJECT: Use contour properties to identify licence plate in images"
   ]
  },
  {
   "cell_type": "code",
   "execution_count": null,
   "metadata": {},
   "outputs": [],
   "source": [
    "image = np.flip(cv2.imread(\"../img/licence_plate_raw.png\"), axis = 2)\n",
    "show_image(image)"
   ]
  },
  {
   "cell_type": "code",
   "execution_count": null,
   "metadata": {},
   "outputs": [],
   "source": [
    "# TODO: Your code below"
   ]
  }
 ],
 "metadata": {
  "kernelspec": {
   "display_name": "Python 3",
   "language": "python",
   "name": "python3"
  },
  "language_info": {
   "codemirror_mode": {
    "name": "ipython",
    "version": 3
   },
   "file_extension": ".py",
   "mimetype": "text/x-python",
   "name": "python",
   "nbconvert_exporter": "python",
   "pygments_lexer": "ipython3",
   "version": "3.8.3"
  }
 },
 "nbformat": 4,
 "nbformat_minor": 4
}
